{
 "cells": [
  {
   "cell_type": "code",
   "execution_count": 1,
   "metadata": {
    "_cell_guid": "b1076dfc-b9ad-4769-8c92-a6c4dae69d19",
    "_uuid": "8f2839f25d086af736a60e9eeb907d3b93b6e0e5"
   },
   "outputs": [
    {
     "name": "stdout",
     "output_type": "stream",
     "text": [
      "['images_more']\n"
     ]
    }
   ],
   "source": [
    "# This Python 3 environment comes with many helpful analytics libraries installed\n",
    "# It is defined by the kaggle/python docker image: https://github.com/kaggle/docker-python\n",
    "# For example, here's several helpful packages to load in \n",
    "\n",
    "import numpy as np # linear algebra\n",
    "import pandas as pd # data processing, CSV file I/O (e.g. pd.read_csv)\n",
    "\n",
    "# Input data files are available in the \"../input/\" directory.\n",
    "# For example, running this (by clicking run or pressing Shift+Enter) will list the files in the input directory\n",
    "\n",
    "import os\n",
    "print(os.listdir(\"../input\"))\n",
    "\n",
    "# Any results you write to the current directory are saved as output."
   ]
  },
  {
   "cell_type": "code",
   "execution_count": 2,
   "metadata": {
    "_cell_guid": "79c7e3d0-c299-4dcb-8224-4455121ee9b0",
    "_uuid": "d629ff2d2480ee46fbb7e2d37f6b5fab8052498a"
   },
   "outputs": [
    {
     "name": "stderr",
     "output_type": "stream",
     "text": [
      "Using TensorFlow backend.\n"
     ]
    }
   ],
   "source": [
    "import keras\n",
    "import tensorflow as ts\n",
    "import pandas as pd\n",
    "import matplotlib.pyplot as plt\n",
    "from keras.models import Sequential\n",
    "from keras.layers import Dense, Dropout, Flatten\n",
    "from keras.layers import Activation, Conv2D, MaxPooling2D\n",
    "from keras import backend as K\n",
    "from keras.callbacks import ModelCheckpoint"
   ]
  },
  {
   "cell_type": "code",
   "execution_count": 3,
   "metadata": {},
   "outputs": [],
   "source": [
    "from keras.layers import Activation\n",
    "from keras.utils.generic_utils import get_custom_objects\n",
    "\n",
    "def custom_gelu(x):\n",
    "    return 0.5 * x * (1 + ts.tanh(ts.sqrt(2 / np.pi) * (x + 0.044715 * ts.pow(x, 3))))\n",
    "    get_custom_objects().update({'custom_gelu': Activation(custom_gelu)})\n"
   ]
  },
  {
   "cell_type": "code",
   "execution_count": null,
   "metadata": {},
   "outputs": [],
   "source": [
    "from keras import optimizers"
   ]
  },
  {
   "cell_type": "code",
   "execution_count": 4,
   "metadata": {},
   "outputs": [
    {
     "name": "stdout",
     "output_type": "stream",
     "text": [
      "Found 294 images belonging to 7 classes.\n",
      "Found 56 images belonging to 7 classes.\n",
      "Epoch 1/40\n",
      " - 48s - loss: 2.7282 - acc: 0.2633 - val_loss: 2.1828 - val_acc: 0.1607\n",
      "Epoch 2/40\n",
      " - 40s - loss: 1.6007 - acc: 0.3570 - val_loss: 2.1227 - val_acc: 0.1607\n",
      "Epoch 3/40\n",
      " - 41s - loss: 1.3813 - acc: 0.4337 - val_loss: 2.4151 - val_acc: 0.2321\n",
      "Epoch 4/40\n",
      " - 40s - loss: 1.1124 - acc: 0.5861 - val_loss: 1.3530 - val_acc: 0.5000\n",
      "Epoch 5/40\n",
      " - 41s - loss: 0.8473 - acc: 0.7002 - val_loss: 1.4553 - val_acc: 0.4821\n",
      "Epoch 6/40\n",
      " - 41s - loss: 0.6916 - acc: 0.7324 - val_loss: 1.3759 - val_acc: 0.4821\n",
      "Epoch 7/40\n",
      " - 42s - loss: 0.5290 - acc: 0.8094 - val_loss: 1.3094 - val_acc: 0.5179\n",
      "Epoch 8/40\n",
      " - 41s - loss: 0.4420 - acc: 0.8378 - val_loss: 0.9264 - val_acc: 0.7143\n",
      "Epoch 9/40\n",
      " - 41s - loss: 0.3603 - acc: 0.8771 - val_loss: 1.2218 - val_acc: 0.5893\n",
      "Epoch 10/40\n",
      " - 41s - loss: 0.3051 - acc: 0.8901 - val_loss: 1.2042 - val_acc: 0.6429\n",
      "Epoch 11/40\n",
      " - 41s - loss: 0.2492 - acc: 0.9031 - val_loss: 2.7844 - val_acc: 0.5000\n",
      "Epoch 12/40\n",
      " - 41s - loss: 0.3786 - acc: 0.8764 - val_loss: 1.4224 - val_acc: 0.6429\n",
      "Epoch 13/40\n",
      " - 42s - loss: 0.2443 - acc: 0.9136 - val_loss: 1.4045 - val_acc: 0.6429\n",
      "Epoch 14/40\n",
      " - 41s - loss: 0.2072 - acc: 0.9289 - val_loss: 1.0762 - val_acc: 0.7321\n",
      "Epoch 15/40\n",
      " - 42s - loss: 0.1394 - acc: 0.9548 - val_loss: 1.5837 - val_acc: 0.6429\n",
      "Epoch 16/40\n",
      " - 41s - loss: 0.1040 - acc: 0.9639 - val_loss: 1.8755 - val_acc: 0.7143\n",
      "Epoch 17/40\n",
      " - 41s - loss: 0.1069 - acc: 0.9641 - val_loss: 1.3587 - val_acc: 0.6429\n",
      "Epoch 18/40\n",
      " - 41s - loss: 0.0934 - acc: 0.9688 - val_loss: 1.9460 - val_acc: 0.6429\n",
      "Epoch 19/40\n",
      " - 41s - loss: 0.0856 - acc: 0.9670 - val_loss: 1.8451 - val_acc: 0.6429\n",
      "Epoch 20/40\n",
      " - 41s - loss: 0.0724 - acc: 0.9735 - val_loss: 1.6048 - val_acc: 0.7321\n",
      "Epoch 21/40\n",
      " - 41s - loss: 0.1176 - acc: 0.9658 - val_loss: 2.0490 - val_acc: 0.7143\n",
      "Epoch 22/40\n",
      " - 41s - loss: 0.0849 - acc: 0.9639 - val_loss: 1.7767 - val_acc: 0.6607\n",
      "Epoch 23/40\n",
      " - 41s - loss: 0.0603 - acc: 0.9824 - val_loss: 2.7075 - val_acc: 0.6071\n",
      "Epoch 24/40\n",
      " - 40s - loss: 0.1037 - acc: 0.9611 - val_loss: 2.0657 - val_acc: 0.6250\n",
      "Epoch 25/40\n",
      " - 42s - loss: 0.0663 - acc: 0.9799 - val_loss: 1.6191 - val_acc: 0.6786\n",
      "Epoch 26/40\n",
      " - 41s - loss: 0.0580 - acc: 0.9813 - val_loss: 1.7258 - val_acc: 0.7143\n",
      "Epoch 27/40\n",
      " - 41s - loss: 0.0471 - acc: 0.9823 - val_loss: 2.6517 - val_acc: 0.5893\n",
      "Epoch 28/40\n",
      " - 41s - loss: 0.0482 - acc: 0.9807 - val_loss: 1.6409 - val_acc: 0.7500\n",
      "Epoch 29/40\n",
      " - 42s - loss: 0.0657 - acc: 0.9765 - val_loss: 1.3874 - val_acc: 0.7857\n",
      "Epoch 30/40\n",
      " - 41s - loss: 0.0537 - acc: 0.9850 - val_loss: 1.4965 - val_acc: 0.7321\n",
      "Epoch 31/40\n",
      " - 42s - loss: 0.0547 - acc: 0.9831 - val_loss: 2.0070 - val_acc: 0.6250\n",
      "Epoch 32/40\n",
      " - 41s - loss: 0.0551 - acc: 0.9790 - val_loss: 1.8613 - val_acc: 0.7500\n",
      "Epoch 33/40\n",
      " - 42s - loss: 0.0505 - acc: 0.9824 - val_loss: 1.8481 - val_acc: 0.6964\n",
      "Epoch 34/40\n",
      " - 41s - loss: 0.0384 - acc: 0.9858 - val_loss: 1.5810 - val_acc: 0.7500\n",
      "Epoch 35/40\n",
      " - 42s - loss: 0.0469 - acc: 0.9842 - val_loss: 2.1643 - val_acc: 0.6429\n",
      "Epoch 36/40\n",
      " - 41s - loss: 0.0320 - acc: 0.9901 - val_loss: 2.4536 - val_acc: 0.6250\n",
      "Epoch 37/40\n"
     ]
    },
    {
     "ename": "KeyboardInterrupt",
     "evalue": "",
     "output_type": "error",
     "traceback": [
      "\u001b[0;31m---------------------------------------------------------------------------\u001b[0m",
      "\u001b[0;31mKeyboardInterrupt\u001b[0m                         Traceback (most recent call last)",
      "\u001b[0;32m<ipython-input-4-744f835b4d9d>\u001b[0m in \u001b[0;36m<module>\u001b[0;34m\u001b[0m\n\u001b[1;32m     67\u001b[0m         \u001b[0mvalidation_data\u001b[0m\u001b[0;34m=\u001b[0m\u001b[0mvalidation_generator\u001b[0m\u001b[0;34m,\u001b[0m\u001b[0;34m\u001b[0m\u001b[0m\n\u001b[1;32m     68\u001b[0m         \u001b[0mvalidation_steps\u001b[0m\u001b[0;34m=\u001b[0m\u001b[0;36m2\u001b[0m\u001b[0;34m,\u001b[0m\u001b[0;34m\u001b[0m\u001b[0m\n\u001b[0;32m---> 69\u001b[0;31m         verbose=2)\n\u001b[0m\u001b[1;32m     70\u001b[0m \u001b[0;34m\u001b[0m\u001b[0m\n\u001b[1;32m     71\u001b[0m \u001b[0;34m\u001b[0m\u001b[0m\n",
      "\u001b[0;32m/opt/conda/lib/python3.6/site-packages/keras/legacy/interfaces.py\u001b[0m in \u001b[0;36mwrapper\u001b[0;34m(*args, **kwargs)\u001b[0m\n\u001b[1;32m     89\u001b[0m                 warnings.warn('Update your `' + object_name + '` call to the ' +\n\u001b[1;32m     90\u001b[0m                               'Keras 2 API: ' + signature, stacklevel=2)\n\u001b[0;32m---> 91\u001b[0;31m             \u001b[0;32mreturn\u001b[0m \u001b[0mfunc\u001b[0m\u001b[0;34m(\u001b[0m\u001b[0;34m*\u001b[0m\u001b[0margs\u001b[0m\u001b[0;34m,\u001b[0m \u001b[0;34m**\u001b[0m\u001b[0mkwargs\u001b[0m\u001b[0;34m)\u001b[0m\u001b[0;34m\u001b[0m\u001b[0m\n\u001b[0m\u001b[1;32m     92\u001b[0m         \u001b[0mwrapper\u001b[0m\u001b[0;34m.\u001b[0m\u001b[0m_original_function\u001b[0m \u001b[0;34m=\u001b[0m \u001b[0mfunc\u001b[0m\u001b[0;34m\u001b[0m\u001b[0m\n\u001b[1;32m     93\u001b[0m         \u001b[0;32mreturn\u001b[0m \u001b[0mwrapper\u001b[0m\u001b[0;34m\u001b[0m\u001b[0m\n",
      "\u001b[0;32m/opt/conda/lib/python3.6/site-packages/keras/engine/training.py\u001b[0m in \u001b[0;36mfit_generator\u001b[0;34m(self, generator, steps_per_epoch, epochs, verbose, callbacks, validation_data, validation_steps, class_weight, max_queue_size, workers, use_multiprocessing, shuffle, initial_epoch)\u001b[0m\n\u001b[1;32m   1416\u001b[0m             \u001b[0muse_multiprocessing\u001b[0m\u001b[0;34m=\u001b[0m\u001b[0muse_multiprocessing\u001b[0m\u001b[0;34m,\u001b[0m\u001b[0;34m\u001b[0m\u001b[0m\n\u001b[1;32m   1417\u001b[0m             \u001b[0mshuffle\u001b[0m\u001b[0;34m=\u001b[0m\u001b[0mshuffle\u001b[0m\u001b[0;34m,\u001b[0m\u001b[0;34m\u001b[0m\u001b[0m\n\u001b[0;32m-> 1418\u001b[0;31m             initial_epoch=initial_epoch)\n\u001b[0m\u001b[1;32m   1419\u001b[0m \u001b[0;34m\u001b[0m\u001b[0m\n\u001b[1;32m   1420\u001b[0m     \u001b[0;34m@\u001b[0m\u001b[0minterfaces\u001b[0m\u001b[0;34m.\u001b[0m\u001b[0mlegacy_generator_methods_support\u001b[0m\u001b[0;34m\u001b[0m\u001b[0m\n",
      "\u001b[0;32m/opt/conda/lib/python3.6/site-packages/keras/engine/training_generator.py\u001b[0m in \u001b[0;36mfit_generator\u001b[0;34m(model, generator, steps_per_epoch, epochs, verbose, callbacks, validation_data, validation_steps, class_weight, max_queue_size, workers, use_multiprocessing, shuffle, initial_epoch)\u001b[0m\n\u001b[1;32m    215\u001b[0m                 outs = model.train_on_batch(x, y,\n\u001b[1;32m    216\u001b[0m                                             \u001b[0msample_weight\u001b[0m\u001b[0;34m=\u001b[0m\u001b[0msample_weight\u001b[0m\u001b[0;34m,\u001b[0m\u001b[0;34m\u001b[0m\u001b[0m\n\u001b[0;32m--> 217\u001b[0;31m                                             class_weight=class_weight)\n\u001b[0m\u001b[1;32m    218\u001b[0m \u001b[0;34m\u001b[0m\u001b[0m\n\u001b[1;32m    219\u001b[0m                 \u001b[0mouts\u001b[0m \u001b[0;34m=\u001b[0m \u001b[0mto_list\u001b[0m\u001b[0;34m(\u001b[0m\u001b[0mouts\u001b[0m\u001b[0;34m)\u001b[0m\u001b[0;34m\u001b[0m\u001b[0m\n",
      "\u001b[0;32m/opt/conda/lib/python3.6/site-packages/keras/engine/training.py\u001b[0m in \u001b[0;36mtrain_on_batch\u001b[0;34m(self, x, y, sample_weight, class_weight)\u001b[0m\n\u001b[1;32m   1215\u001b[0m             \u001b[0mins\u001b[0m \u001b[0;34m=\u001b[0m \u001b[0mx\u001b[0m \u001b[0;34m+\u001b[0m \u001b[0my\u001b[0m \u001b[0;34m+\u001b[0m \u001b[0msample_weights\u001b[0m\u001b[0;34m\u001b[0m\u001b[0m\n\u001b[1;32m   1216\u001b[0m         \u001b[0mself\u001b[0m\u001b[0;34m.\u001b[0m\u001b[0m_make_train_function\u001b[0m\u001b[0;34m(\u001b[0m\u001b[0;34m)\u001b[0m\u001b[0;34m\u001b[0m\u001b[0m\n\u001b[0;32m-> 1217\u001b[0;31m         \u001b[0moutputs\u001b[0m \u001b[0;34m=\u001b[0m \u001b[0mself\u001b[0m\u001b[0;34m.\u001b[0m\u001b[0mtrain_function\u001b[0m\u001b[0;34m(\u001b[0m\u001b[0mins\u001b[0m\u001b[0;34m)\u001b[0m\u001b[0;34m\u001b[0m\u001b[0m\n\u001b[0m\u001b[1;32m   1218\u001b[0m         \u001b[0;32mreturn\u001b[0m \u001b[0munpack_singleton\u001b[0m\u001b[0;34m(\u001b[0m\u001b[0moutputs\u001b[0m\u001b[0;34m)\u001b[0m\u001b[0;34m\u001b[0m\u001b[0m\n\u001b[1;32m   1219\u001b[0m \u001b[0;34m\u001b[0m\u001b[0m\n",
      "\u001b[0;32m/opt/conda/lib/python3.6/site-packages/keras/backend/tensorflow_backend.py\u001b[0m in \u001b[0;36m__call__\u001b[0;34m(self, inputs)\u001b[0m\n\u001b[1;32m   2713\u001b[0m                 \u001b[0;32mreturn\u001b[0m \u001b[0mself\u001b[0m\u001b[0;34m.\u001b[0m\u001b[0m_legacy_call\u001b[0m\u001b[0;34m(\u001b[0m\u001b[0minputs\u001b[0m\u001b[0;34m)\u001b[0m\u001b[0;34m\u001b[0m\u001b[0m\n\u001b[1;32m   2714\u001b[0m \u001b[0;34m\u001b[0m\u001b[0m\n\u001b[0;32m-> 2715\u001b[0;31m             \u001b[0;32mreturn\u001b[0m \u001b[0mself\u001b[0m\u001b[0;34m.\u001b[0m\u001b[0m_call\u001b[0m\u001b[0;34m(\u001b[0m\u001b[0minputs\u001b[0m\u001b[0;34m)\u001b[0m\u001b[0;34m\u001b[0m\u001b[0m\n\u001b[0m\u001b[1;32m   2716\u001b[0m         \u001b[0;32melse\u001b[0m\u001b[0;34m:\u001b[0m\u001b[0;34m\u001b[0m\u001b[0m\n\u001b[1;32m   2717\u001b[0m             \u001b[0;32mif\u001b[0m \u001b[0mpy_any\u001b[0m\u001b[0;34m(\u001b[0m\u001b[0mis_tensor\u001b[0m\u001b[0;34m(\u001b[0m\u001b[0mx\u001b[0m\u001b[0;34m)\u001b[0m \u001b[0;32mfor\u001b[0m \u001b[0mx\u001b[0m \u001b[0;32min\u001b[0m \u001b[0minputs\u001b[0m\u001b[0;34m)\u001b[0m\u001b[0;34m:\u001b[0m\u001b[0;34m\u001b[0m\u001b[0m\n",
      "\u001b[0;32m/opt/conda/lib/python3.6/site-packages/keras/backend/tensorflow_backend.py\u001b[0m in \u001b[0;36m_call\u001b[0;34m(self, inputs)\u001b[0m\n\u001b[1;32m   2673\u001b[0m             \u001b[0mfetched\u001b[0m \u001b[0;34m=\u001b[0m \u001b[0mself\u001b[0m\u001b[0;34m.\u001b[0m\u001b[0m_callable_fn\u001b[0m\u001b[0;34m(\u001b[0m\u001b[0;34m*\u001b[0m\u001b[0marray_vals\u001b[0m\u001b[0;34m,\u001b[0m \u001b[0mrun_metadata\u001b[0m\u001b[0;34m=\u001b[0m\u001b[0mself\u001b[0m\u001b[0;34m.\u001b[0m\u001b[0mrun_metadata\u001b[0m\u001b[0;34m)\u001b[0m\u001b[0;34m\u001b[0m\u001b[0m\n\u001b[1;32m   2674\u001b[0m         \u001b[0;32melse\u001b[0m\u001b[0;34m:\u001b[0m\u001b[0;34m\u001b[0m\u001b[0m\n\u001b[0;32m-> 2675\u001b[0;31m             \u001b[0mfetched\u001b[0m \u001b[0;34m=\u001b[0m \u001b[0mself\u001b[0m\u001b[0;34m.\u001b[0m\u001b[0m_callable_fn\u001b[0m\u001b[0;34m(\u001b[0m\u001b[0;34m*\u001b[0m\u001b[0marray_vals\u001b[0m\u001b[0;34m)\u001b[0m\u001b[0;34m\u001b[0m\u001b[0m\n\u001b[0m\u001b[1;32m   2676\u001b[0m         \u001b[0;32mreturn\u001b[0m \u001b[0mfetched\u001b[0m\u001b[0;34m[\u001b[0m\u001b[0;34m:\u001b[0m\u001b[0mlen\u001b[0m\u001b[0;34m(\u001b[0m\u001b[0mself\u001b[0m\u001b[0;34m.\u001b[0m\u001b[0moutputs\u001b[0m\u001b[0;34m)\u001b[0m\u001b[0;34m]\u001b[0m\u001b[0;34m\u001b[0m\u001b[0m\n\u001b[1;32m   2677\u001b[0m \u001b[0;34m\u001b[0m\u001b[0m\n",
      "\u001b[0;32m/opt/conda/lib/python3.6/site-packages/tensorflow/python/client/session.py\u001b[0m in \u001b[0;36m__call__\u001b[0;34m(self, *args, **kwargs)\u001b[0m\n\u001b[1;32m   1437\u001b[0m           ret = tf_session.TF_SessionRunCallable(\n\u001b[1;32m   1438\u001b[0m               \u001b[0mself\u001b[0m\u001b[0;34m.\u001b[0m\u001b[0m_session\u001b[0m\u001b[0;34m.\u001b[0m\u001b[0m_session\u001b[0m\u001b[0;34m,\u001b[0m \u001b[0mself\u001b[0m\u001b[0;34m.\u001b[0m\u001b[0m_handle\u001b[0m\u001b[0;34m,\u001b[0m \u001b[0margs\u001b[0m\u001b[0;34m,\u001b[0m \u001b[0mstatus\u001b[0m\u001b[0;34m,\u001b[0m\u001b[0;34m\u001b[0m\u001b[0m\n\u001b[0;32m-> 1439\u001b[0;31m               run_metadata_ptr)\n\u001b[0m\u001b[1;32m   1440\u001b[0m         \u001b[0;32mif\u001b[0m \u001b[0mrun_metadata\u001b[0m\u001b[0;34m:\u001b[0m\u001b[0;34m\u001b[0m\u001b[0m\n\u001b[1;32m   1441\u001b[0m           \u001b[0mproto_data\u001b[0m \u001b[0;34m=\u001b[0m \u001b[0mtf_session\u001b[0m\u001b[0;34m.\u001b[0m\u001b[0mTF_GetBuffer\u001b[0m\u001b[0;34m(\u001b[0m\u001b[0mrun_metadata_ptr\u001b[0m\u001b[0;34m)\u001b[0m\u001b[0;34m\u001b[0m\u001b[0m\n",
      "\u001b[0;31mKeyboardInterrupt\u001b[0m: "
     ]
    }
   ],
   "source": [
    "train_datagen = keras.preprocessing.image.ImageDataGenerator(\n",
    "        rescale=1./255,\n",
    "        rotation_range=15,\n",
    "        zoom_range=0.2,\n",
    ")\n",
    "\n",
    "\n",
    "test_datagen = keras.preprocessing.image.ImageDataGenerator(\n",
    "        rescale=1./255 \n",
    "       )\n",
    "\n",
    "\n",
    "train_generator = train_datagen.flow_from_directory(\n",
    "        '../input/images_more/images/train',\n",
    "        target_size=(256,256),\n",
    "        color_mode='rgb',\n",
    "        batch_size=158,\n",
    "        class_mode='categorical'\n",
    ")\n",
    "\n",
    "validation_generator = test_datagen.flow_from_directory(\n",
    "        '../input/images_more/images/valid',\n",
    "        target_size=(256,256),\n",
    "        color_mode='rgb',\n",
    "        class_mode='categorical')\n",
    "\n",
    "\n",
    "\n",
    "model_neuron= Sequential()\n",
    "\n",
    "model_neuron.add(Conv2D(filters = 32, kernel_size = (3,3), padding = 'same',activation = custom_gelu, input_shape = (256,256,3))) \n",
    "model_neuron.add(MaxPooling2D(pool_size = (2,2))) \n",
    "#model_neuron.add(Dropout(0.2))\n",
    "\n",
    "\n",
    "model_neuron.add(Conv2D(filters = 32, kernel_size = (3,3), padding = 'same',activation='relu')) \n",
    "model_neuron.add(MaxPooling2D(pool_size = (2,2))) \n",
    "#model_neuron.add(Dropout(0.2))\n",
    "\n",
    "model_neuron.add(Conv2D(64, (3, 3), activation='relu'))\n",
    "model_neuron.add(MaxPooling2D(pool_size=(2, 2)))\n",
    "#model_neuron.add(Dropout(0.2))\n",
    "\n",
    "model_neuron.add(Flatten())\n",
    "\n",
    "model_neuron.add(Dense(800, activation=custom_gelu))\n",
    "#model_neuron.add(Dropout(0.2))\n",
    "\n",
    "model_neuron.add(Dense(600, activation=custom_gelu))\n",
    "#model_neuron.add(Dropout(0.2))\n",
    "\n",
    "model_neuron.add(Dense(200, activation=custom_gelu))\n",
    "#model_neuron.add(Dropout(0.2))\n",
    "\n",
    "model_neuron.add(Dense(7, activation='softmax'))\n",
    "\n",
    "\n",
    "\n",
    "model_neuron.compile(optimizer='adam',\n",
    "                     loss='categorical_crossentropy', \n",
    "                     metrics=['accuracy'])    \n",
    "\n",
    "model_neuron.fit_generator(\n",
    "        train_generator,\n",
    "        steps_per_epoch=9,\n",
    "        epochs=40,\n",
    "        validation_data=validation_generator,\n",
    "        validation_steps=2, \n",
    "        verbose=2)\n",
    "\n",
    "\n",
    "model_neuron.save(\"plastic_cnn\")"
   ]
  }
 ],
 "metadata": {
  "kernelspec": {
   "display_name": "Python 3",
   "language": "python",
   "name": "python3"
  },
  "language_info": {
   "codemirror_mode": {
    "name": "ipython",
    "version": 3
   },
   "file_extension": ".py",
   "mimetype": "text/x-python",
   "name": "python",
   "nbconvert_exporter": "python",
   "pygments_lexer": "ipython3",
   "version": "3.7.1"
  }
 },
 "nbformat": 4,
 "nbformat_minor": 1
}
