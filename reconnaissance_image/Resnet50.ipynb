{
 "cells": [
  {
   "cell_type": "code",
   "execution_count": 2,
   "metadata": {
    "_cell_guid": "b1076dfc-b9ad-4769-8c92-a6c4dae69d19",
    "_uuid": "8f2839f25d086af736a60e9eeb907d3b93b6e0e5"
   },
   "outputs": [],
   "source": [
    "import numpy as np\n",
    "import pandas as pd\n",
    "\n",
    "import matplotlib.pyplot as plt\n",
    "%matplotlib inline \n",
    "\n",
    "import cv2\n",
    "\n",
    "import os"
   ]
  },
  {
   "cell_type": "markdown",
   "metadata": {},
   "source": [
    "https://www.kaggle.com/suniliitb96/tutorial-keras-transfer-learning-with-resnet50"
   ]
  },
  {
   "cell_type": "markdown",
   "metadata": {},
   "source": [
    "Global Constants"
   ]
  },
  {
   "cell_type": "code",
   "execution_count": 3,
   "metadata": {},
   "outputs": [],
   "source": [
    "# Fixed for our Cats & Dogs classes\n",
    "NUM_CLASSES = 7\n",
    "\n",
    "# Fixed for Cats & Dogs color images\n",
    "CHANNELS = 7\n",
    "\n",
    "IMAGE_RESIZE = 224\n",
    "RESNET50_POOLING_AVERAGE = 'avg'\n",
    "DENSE_LAYER_ACTIVATION = 'softmax'\n",
    "OBJECTIVE_FUNCTION = 'categorical_crossentropy'\n",
    "\n",
    "# Common accuracy metric for all outputs, but can use different metrics for different output\n",
    "LOSS_METRICS = ['accuracy']\n",
    "\n",
    "# EARLY_STOP_PATIENCE must be < NUM_EPOCHS\n",
    "NUM_EPOCHS = 10\n",
    "EARLY_STOP_PATIENCE = 3\n",
    "\n",
    "# These steps value should be proper FACTOR of no.-of-images in train & valid folders respectively\n",
    "# Training images processed in each step would be no.-of-train-images / STEPS_PER_EPOCH_TRAINING\n",
    "STEPS_PER_EPOCH_TRAINING = 10\n",
    "STEPS_PER_EPOCH_VALIDATION = 10\n",
    "\n",
    "# These steps value should be proper FACTOR of no.-of-images in train & valid folders respectively\n",
    "# NOTE that these BATCH* are for Keras ImageDataGenerator batching to fill epoch step input\n",
    "BATCH_SIZE_TRAINING = 100\n",
    "BATCH_SIZE_VALIDATION = 100\n",
    "\n",
    "# Using 1 to easily manage mapping between test_generator & prediction for submission preparation\n",
    "BATCH_SIZE_TESTING = 1"
   ]
  },
  {
   "cell_type": "code",
   "execution_count": 4,
   "metadata": {},
   "outputs": [],
   "source": [
    "from tensorflow.python.keras.applications import ResNet50\n",
    "from tensorflow.python.keras.models import Sequential\n",
    "from tensorflow.python.keras.layers import Dense"
   ]
  },
  {
   "cell_type": "markdown",
   "metadata": {},
   "source": [
    "ResNet50 : \n",
    "- Notice that resnet50 folder has 2 pre-trained weights files... xyz_tf_kernels.h5 & xyz_tf_kernels_NOTOP.h5\n",
    "- The xyz_tf_kernels.h5 weights is useful for pure prediction of test image and this prediction will rely completely on ResNet50 pre-trained weights, i.e., it does not expected any training from our side\n",
    "- Out intention in this kernel is Transfer Learning by using ResNet50 pre-trained weights except its TOP layer, i.e., the xyz_tf_kernels_NOTOP.h5 weights... Use this weights as initial weight for training new layer using train images"
   ]
  },
  {
   "cell_type": "code",
   "execution_count": 5,
   "metadata": {},
   "outputs": [],
   "source": [
    "resnet_weights_path = '../input/resnet50/resnet50_weights_tf_dim_ordering_tf_kernels_notop.h5'"
   ]
  },
  {
   "cell_type": "markdown",
   "metadata": {},
   "source": [
    "Define Our Transfer Learning Network Model Consisting of 2 Layers\n",
    "- Here, we are preparing specification or blueprint of the TensorFlow DAG (directed acyclcic graph) for just the MODEL part."
   ]
  },
  {
   "cell_type": "code",
   "execution_count": 6,
   "metadata": {},
   "outputs": [],
   "source": [
    "#Still not talking about our train/test data or any pre-processing.\n",
    "\n",
    "model = Sequential()\n",
    "\n",
    "# 1st layer as the lumpsum weights from resnet50_weights_tf_dim_ordering_tf_kernels_notop.h5\n",
    "# NOTE that this layer will be set below as NOT TRAINABLE, i.e., use it as is\n",
    "model.add(ResNet50(include_top = False, pooling = RESNET50_POOLING_AVERAGE, weights = resnet_weights_path))\n",
    "\n",
    "#si ça marche pas, mettre 'resnet_weights_path' à la place de None dans weights \n",
    "\n",
    "# 2nd layer as Dense for 2-class classification, i.e., dog or cat using SoftMax activation\n",
    "model.add(Dense(800, activation='relu'))\n",
    "#model.add(Dense(600, activation='sigmoid'))\n",
    "#model.add(Dense(200, activation='sigmoid'))\n",
    "model.add(Dense(NUM_CLASSES, activation = DENSE_LAYER_ACTIVATION))\n",
    "\n",
    "# Say not to train first layer (ResNet) model as it is already trained\n",
    "model.layers[0].trainable = False"
   ]
  },
  {
   "cell_type": "code",
   "execution_count": 7,
   "metadata": {},
   "outputs": [
    {
     "name": "stdout",
     "output_type": "stream",
     "text": [
      "_________________________________________________________________\n",
      "Layer (type)                 Output Shape              Param #   \n",
      "=================================================================\n",
      "resnet50 (Model)             (None, 2048)              23587712  \n",
      "_________________________________________________________________\n",
      "dense (Dense)                (None, 800)               1639200   \n",
      "_________________________________________________________________\n",
      "dense_1 (Dense)              (None, 7)                 5607      \n",
      "=================================================================\n",
      "Total params: 25,232,519\n",
      "Trainable params: 1,644,807\n",
      "Non-trainable params: 23,587,712\n",
      "_________________________________________________________________\n"
     ]
    }
   ],
   "source": [
    "model.summary()"
   ]
  },
  {
   "cell_type": "markdown",
   "metadata": {},
   "source": [
    "Compile Our Transfer Learning Model"
   ]
  },
  {
   "cell_type": "code",
   "execution_count": 8,
   "metadata": {},
   "outputs": [],
   "source": [
    "from tensorflow.python.keras import optimizers\n",
    "\n",
    "sgd = optimizers.SGD(lr = 0.01, decay = 1e-6, momentum = 0.9, nesterov = True)\n",
    "model.compile(optimizer = sgd, loss = OBJECTIVE_FUNCTION, metrics = LOSS_METRICS)"
   ]
  },
  {
   "cell_type": "markdown",
   "metadata": {},
   "source": [
    "Prepare Keras Data Generators"
   ]
  },
  {
   "cell_type": "code",
   "execution_count": 9,
   "metadata": {},
   "outputs": [
    {
     "name": "stderr",
     "output_type": "stream",
     "text": [
      "Using TensorFlow backend.\n"
     ]
    },
    {
     "name": "stdout",
     "output_type": "stream",
     "text": [
      "Found 273 images belonging to 7 classes.\n",
      "Found 56 images belonging to 7 classes.\n"
     ]
    }
   ],
   "source": [
    "from keras.applications.resnet50 import preprocess_input\n",
    "from keras.preprocessing.image import ImageDataGenerator\n",
    "\n",
    "image_size = IMAGE_RESIZE\n",
    "\n",
    "# preprocessing_function is applied on each image but only after re-sizing & augmentation (resize => augment => pre-process)\n",
    "# Each of the keras.application.resnet* preprocess_input MOSTLY mean BATCH NORMALIZATION (applied on each batch) stabilize the inputs to nonlinear activation functions\n",
    "# Batch Normalization helps in faster convergence\n",
    "data_generator = ImageDataGenerator(preprocessing_function=preprocess_input)\n",
    "\n",
    "# flow_From_directory generates batches of augmented data (where augmentation can be color conversion, etc)\n",
    "# Both train & valid folders must have NUM_CLASSES sub-folders\n",
    "train_generator = data_generator.flow_from_directory(\n",
    "        '../input/images-plastic/images/images/train',\n",
    "        target_size=(image_size, image_size),\n",
    "        batch_size=BATCH_SIZE_TRAINING,\n",
    "        class_mode='categorical')\n",
    "\n",
    "validation_generator = data_generator.flow_from_directory(\n",
    "        '../input/images-plastic/images/images/valid',\n",
    "        target_size=(image_size, image_size),\n",
    "        #batch_size=BATCH_SIZE_VALIDATION,\n",
    "        class_mode='categorical')"
   ]
  },
  {
   "cell_type": "code",
   "execution_count": null,
   "metadata": {},
   "outputs": [],
   "source": [
    "# Max number of steps that these generator will have opportunity to process their source content\n",
    "# len(train_generator) should be 'no. of available train images / BATCH_SIZE_TRAINING'\n",
    "# len(valid_generator) should be 'no. of available train images / BATCH_SIZE_VALIDATION'\n",
    "(BATCH_SIZE_TRAINING, len(train_generator), BATCH_SIZE_VALIDATION, len(validation_generator))"
   ]
  },
  {
   "cell_type": "markdown",
   "metadata": {},
   "source": [
    "Train Our Model With Cats & Dogs Train (splitted) Data Set"
   ]
  },
  {
   "cell_type": "code",
   "execution_count": null,
   "metadata": {},
   "outputs": [],
   "source": [
    "# Early stopping & checkpointing the best model in ../working dir & restoring that as our model for prediction\n",
    "#from tensorflow.python.keras.callbacks import EarlyStopping, ModelCheckpoint\n",
    "\n",
    "#cb_early_stopper = EarlyStopping(monitor = 'val_loss', patience = EARLY_STOP_PATIENCE)\n",
    "#cb_checkpointer = ModelCheckpoint(filepath = '../working/best.hdf5', monitor = 'val_loss', save_best_only = True, mode = 'auto')"
   ]
  },
  {
   "cell_type": "code",
   "execution_count": 10,
   "metadata": {},
   "outputs": [],
   "source": [
    "from tensorflow.keras.callbacks import ModelCheckpoint"
   ]
  },
  {
   "cell_type": "code",
   "execution_count": 11,
   "metadata": {},
   "outputs": [],
   "source": [
    "checkpoint = ModelCheckpoint(\n",
    "    'modelvggcifar-10.h5', \n",
    "    monitor='val_acc', \n",
    "    verbose=0, \n",
    "    save_best_only=True, \n",
    "    save_weights_only=False,\n",
    "    mode='auto'\n",
    ")"
   ]
  },
  {
   "cell_type": "code",
   "execution_count": 12,
   "metadata": {},
   "outputs": [
    {
     "name": "stdout",
     "output_type": "stream",
     "text": [
      "Epoch 1/20\n",
      "2/2 [==============================] - 3s 1s/step - loss: 2.3800 - acc: 0.2143\n",
      "3/3 [==============================] - 12s 4s/step - loss: 1.7087 - acc: 0.3223 - val_loss: 2.3800 - val_acc: 0.2143\n",
      "Epoch 2/20\n",
      "2/2 [==============================] - 2s 876ms/step - loss: 2.3466 - acc: 0.3571\n",
      "3/3 [==============================] - 6s 2s/step - loss: 1.1568 - acc: 0.6337 - val_loss: 2.3466 - val_acc: 0.3571\n",
      "Epoch 3/20\n",
      "2/2 [==============================] - 2s 909ms/step - loss: 2.0290 - acc: 0.3929\n",
      "3/3 [==============================] - 7s 2s/step - loss: 0.8296 - acc: 0.7692 - val_loss: 2.0290 - val_acc: 0.3929\n",
      "Epoch 4/20\n",
      "2/2 [==============================] - 2s 915ms/step - loss: 1.6018 - acc: 0.4464\n",
      "3/3 [==============================] - 7s 2s/step - loss: 0.5678 - acc: 0.8315 - val_loss: 1.6018 - val_acc: 0.4464\n",
      "Epoch 5/20\n",
      "2/2 [==============================] - 2s 880ms/step - loss: 1.3602 - acc: 0.5536\n",
      "3/3 [==============================] - 7s 2s/step - loss: 0.4389 - acc: 0.8681 - val_loss: 1.3602 - val_acc: 0.5536\n",
      "Epoch 6/20\n",
      "2/2 [==============================] - 2s 855ms/step - loss: 1.3714 - acc: 0.5714\n",
      "3/3 [==============================] - 7s 2s/step - loss: 0.3458 - acc: 0.9121 - val_loss: 1.3714 - val_acc: 0.5714\n",
      "Epoch 7/20\n",
      "2/2 [==============================] - 2s 911ms/step - loss: 1.2087 - acc: 0.5893\n",
      "3/3 [==============================] - 7s 2s/step - loss: 0.2728 - acc: 0.9524 - val_loss: 1.2087 - val_acc: 0.5893\n",
      "Epoch 8/20\n",
      "2/2 [==============================] - 2s 955ms/step - loss: 1.1240 - acc: 0.6071\n",
      "3/3 [==============================] - 7s 2s/step - loss: 0.2193 - acc: 0.9634 - val_loss: 1.1240 - val_acc: 0.6071\n",
      "Epoch 9/20\n",
      "2/2 [==============================] - 2s 951ms/step - loss: 1.1861 - acc: 0.6429\n",
      "3/3 [==============================] - 7s 2s/step - loss: 0.1651 - acc: 0.9853 - val_loss: 1.1861 - val_acc: 0.6429\n",
      "Epoch 10/20\n",
      "2/2 [==============================] - 2s 879ms/step - loss: 1.1037 - acc: 0.6607\n",
      "3/3 [==============================] - 7s 2s/step - loss: 0.1479 - acc: 0.9780 - val_loss: 1.1037 - val_acc: 0.6607\n",
      "Epoch 11/20\n",
      "2/2 [==============================] - 2s 888ms/step - loss: 1.0725 - acc: 0.6964\n",
      "3/3 [==============================] - 7s 2s/step - loss: 0.1133 - acc: 0.9927 - val_loss: 1.0725 - val_acc: 0.6964\n",
      "Epoch 12/20\n",
      "2/2 [==============================] - 2s 918ms/step - loss: 1.0776 - acc: 0.6964\n",
      "3/3 [==============================] - 7s 2s/step - loss: 0.1046 - acc: 0.9890 - val_loss: 1.0776 - val_acc: 0.6964\n",
      "Epoch 13/20\n",
      "2/2 [==============================] - 2s 877ms/step - loss: 1.0089 - acc: 0.6964\n",
      "3/3 [==============================] - 7s 2s/step - loss: 0.0832 - acc: 0.9963 - val_loss: 1.0089 - val_acc: 0.6964\n",
      "Epoch 14/20\n",
      "2/2 [==============================] - 2s 871ms/step - loss: 0.9626 - acc: 0.6964\n",
      "3/3 [==============================] - 7s 2s/step - loss: 0.0759 - acc: 0.9963 - val_loss: 0.9626 - val_acc: 0.6964\n",
      "Epoch 15/20\n",
      "2/2 [==============================] - 2s 873ms/step - loss: 0.9248 - acc: 0.6964\n",
      "3/3 [==============================] - 7s 2s/step - loss: 0.0658 - acc: 0.9927 - val_loss: 0.9248 - val_acc: 0.6964\n",
      "Epoch 16/20\n",
      "2/2 [==============================] - 2s 862ms/step - loss: 0.9005 - acc: 0.6964\n",
      "3/3 [==============================] - 7s 2s/step - loss: 0.0584 - acc: 1.0000 - val_loss: 0.9005 - val_acc: 0.6964\n",
      "Epoch 17/20\n",
      "2/2 [==============================] - 2s 863ms/step - loss: 0.9369 - acc: 0.6964\n",
      "3/3 [==============================] - 7s 2s/step - loss: 0.0521 - acc: 1.0000 - val_loss: 0.9369 - val_acc: 0.6964\n",
      "Epoch 18/20\n",
      "2/2 [==============================] - 2s 866ms/step - loss: 0.9124 - acc: 0.6964\n",
      "3/3 [==============================] - 7s 2s/step - loss: 0.0481 - acc: 1.0000 - val_loss: 0.9124 - val_acc: 0.6964\n",
      "Epoch 19/20\n",
      "2/2 [==============================] - 2s 870ms/step - loss: 0.8956 - acc: 0.6964\n",
      "3/3 [==============================] - 7s 2s/step - loss: 0.0434 - acc: 1.0000 - val_loss: 0.8956 - val_acc: 0.6964\n",
      "Epoch 20/20\n",
      "2/2 [==============================] - 2s 863ms/step - loss: 0.8931 - acc: 0.6964\n",
      "3/3 [==============================] - 7s 2s/step - loss: 0.0525 - acc: 1.0000 - val_loss: 0.8931 - val_acc: 0.6964\n"
     ]
    }
   ],
   "source": [
    "fit_history = model.fit_generator(\n",
    "        train_generator,\n",
    "        steps_per_epoch=STEPS_PER_EPOCH_TRAINING,\n",
    "        epochs = 20,\n",
    "        validation_data=validation_generator,\n",
    "        validation_steps=STEPS_PER_EPOCH_VALIDATION,\n",
    "        callbacks=[checkpoint]\n",
    ")\n",
    "#model.load_weights(\"../working/best.hdf5\")"
   ]
  },
  {
   "cell_type": "markdown",
   "metadata": {},
   "source": [
    "Définition d'une fonction pour assigner les labels des images aux bons noms "
   ]
  },
  {
   "cell_type": "code",
   "execution_count": 13,
   "metadata": {},
   "outputs": [],
   "source": [
    "def myPredict(data, mode = 0) :\n",
    "    result = []\n",
    "    if mode == 0 : \n",
    "        for dat in data : \n",
    "            reponse = {'bouchon' : dat[0], 'bouteille' : dat[1], \n",
    "                       'contenant' : dat[2], 'couvert' : dat[3], \n",
    "                       'film' : dat[4], 'gobelets' : dat[5], \n",
    "                       'yaourt' : dat[6]}\n",
    "            result.append(reponse)\n",
    "        return result\n",
    "\n",
    "    else : \n",
    "        for dat in data :\n",
    "            result.append(np.argwhere(dat==dat.max())[0][0])\n",
    "        return np.array(result)"
   ]
  },
  {
   "cell_type": "code",
   "execution_count": 14,
   "metadata": {},
   "outputs": [],
   "source": [
    "from sklearn.metrics import confusion_matrix, classification_report\n",
    "from mlxtend.plotting import plot_confusion_matrix\n",
    "import matplotlib.pyplot as plt"
   ]
  },
  {
   "cell_type": "code",
   "execution_count": 15,
   "metadata": {},
   "outputs": [],
   "source": [
    "pred = model.predict_generator(validation_generator, len(validation_generator))\n",
    "Ypredicted = myPredict(pred,1)\n",
    "\n"
   ]
  },
  {
   "cell_type": "code",
   "execution_count": 16,
   "metadata": {},
   "outputs": [],
   "source": [
    "matrix = confusion_matrix(y_true = validation_generator.labels, \n",
    "                 y_pred =Ypredicted, \n",
    "                 labels=[0,1,2,3,4,5,6])\n",
    "\n",
    "class_names = ['bouchon', 'bouteille', 'contenant', 'couvert', 'film', 'gobelets', 'yaourt']\n"
   ]
  },
  {
   "cell_type": "code",
   "execution_count": 17,
   "metadata": {},
   "outputs": [
    {
     "data": {
      "image/png": "[encoded data removed]",
      "text/plain": [
       "<Figure size 432x288 with 2 Axes>"
      ]
     },
     "metadata": {
      "needs_background": "light"
     },
     "output_type": "display_data"
    }
   ],
   "source": [
    "fig, ax = plot_confusion_matrix(conf_mat=matrix,\n",
    "                                colorbar=True,\n",
    "                                show_absolute=False,\n",
    "                                show_normed=True,\n",
    "                                class_names=class_names)\n",
    "plt.show()"
   ]
  },
  {
   "cell_type": "code",
   "execution_count": 18,
   "metadata": {},
   "outputs": [
    {
     "name": "stdout",
     "output_type": "stream",
     "text": [
      "dict_keys(['loss', 'acc', 'val_loss', 'val_acc'])\n"
     ]
    }
   ],
   "source": [
    "print(fit_history.history.keys())"
   ]
  },
  {
   "cell_type": "code",
   "execution_count": 19,
   "metadata": {},
   "outputs": [
    {
     "data": {
      "image/png": "[encoded data removed]",
      "text/plain": [
       "<Figure size 1080x576 with 2 Axes>"
      ]
     },
     "metadata": {
      "needs_background": "light"
     },
     "output_type": "display_data"
    }
   ],
   "source": [
    "plt.figure(1, figsize = (15,8)) \n",
    "    \n",
    "plt.subplot(221)  \n",
    "plt.plot(fit_history.history['acc'])  \n",
    "plt.plot(fit_history.history['val_acc'])  \n",
    "plt.title('model accuracy')  \n",
    "plt.ylabel('accuracy')  \n",
    "plt.xlabel('epoch')  \n",
    "plt.legend(['train', 'valid']) \n",
    "    \n",
    "plt.subplot(222)  \n",
    "plt.plot(fit_history.history['loss'])  \n",
    "plt.plot(fit_history.history['val_loss'])  \n",
    "plt.title('model loss')  \n",
    "plt.ylabel('loss')  \n",
    "plt.xlabel('epoch')  \n",
    "plt.legend(['train', 'valid']) \n",
    "\n",
    "plt.show()"
   ]
  },
  {
   "cell_type": "code",
   "execution_count": null,
   "metadata": {},
   "outputs": [],
   "source": [
    "test_generator = data_generator.flow_from_directory(\n",
    "    directory = '../Kaggle/images/images/test',\n",
    "    target_size = (image_size, image_size),\n",
    "    #batch_size = BATCH_SIZE_TESTING,\n",
    "    class_mode = None,\n",
    "    #shuffle = False,\n",
    "    #seed = 123\n",
    ")\n"
   ]
  },
  {
   "cell_type": "code",
   "execution_count": null,
   "metadata": {},
   "outputs": [],
   "source": [
    "# Reset before each call to predict\n",
    "test_generator.reset()\n",
    "\n",
    "pred = model.predict_generator(test_generator, steps = len(test_generator))\n",
    "\n",
    "#predicted_class_indices = np.array(pred, axis = 1)"
   ]
  },
  {
   "cell_type": "code",
   "execution_count": null,
   "metadata": {},
   "outputs": [],
   "source": [
    "TEST_DIR = '../images/images/test'\n",
    "f, ax = plt.subplots(3, 3, figsize = (15, 15))\n",
    "\n",
    "for i in range(0,25):\n",
    "    imgBGR = cv2.imread(TEST_DIR + test_generator.filenames[i])\n",
    "    imgRGB = cv2.cvtColor(imgBGR, cv2.COLOR_BGR2RGB)\n",
    "    \n",
    "    # a if condition else b\n",
    "    #predicted_class = \"Dog\" if predicted_class_indices[i] else \"Cat\"\n",
    "\n",
    "    ax[i//5, i%5].imshow(imgRGB)\n",
    "    ax[i//5, i%5].axis('off')\n",
    "    ax[i//5, i%5].set_title(\"Predicted:{}\".format(predicted_class))    \n",
    "\n",
    "plt.show()\n"
   ]
  }
 ],
 "metadata": {
  "kernelspec": {
   "display_name": "Python 3",
   "language": "python",
   "name": "python3"
  },
  "language_info": {
   "codemirror_mode": {
    "name": "ipython",
    "version": 3
   },
   "file_extension": ".py",
   "mimetype": "text/x-python",
   "name": "python",
   "nbconvert_exporter": "python",
   "pygments_lexer": "ipython3",
   "version": "3.7.1"
  }
 },
 "nbformat": 4,
 "nbformat_minor": 1
}
